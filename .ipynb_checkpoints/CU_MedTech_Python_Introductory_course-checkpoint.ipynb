{
 "cells": [
  {
   "cell_type": "markdown",
   "metadata": {},
   "source": [
    "# An Introduction to Programming - CU MedTech Society\n",
    "*By David Chong and Munetomo Takahashi*\n",
    "## Preamble\n",
    "Technology has and will play an integral role in healthcare, and there is a good deal of hype about being able to code to understand or even help create the technological product. However, much of AI and computer science can be understood without knowing how to code, and the skill is not necessary for a doctor's primary responsibilities. That being said, learning to code can allow you to experiment with ideas and help consolidate your thoughts. The goal of this tutorial and subsequent ones are to provide a basic understanding of one of the many aspects of MedTech, and hopefully it will help you decide if it is something you wish to explore further.\n",
    "## Programming Languages\n",
    "There are many programming languages, of which **R and Python** are the most commonly known to medics. Each language has its own strengths in terms of speed of execution, what platforms it normally runs on, what kind of pre-existing code is available, how the language structure makes you think etc. For these tutorials we will be using **Python** because it has a language structure similar to english and has a lot of pre-existing code that will make your life much easier.\n",
    "## Basic Navigation\n",
    "Throughout these notebooks if you see a box such as the one below\n"
   ]
  },
  {
   "cell_type": "code",
   "execution_count": null,
   "metadata": {},
   "outputs": [],
   "source": [
    "\"The doctor will see you now\""
   ]
  },
  {
   "cell_type": "markdown",
   "metadata": {},
   "source": [
    "You can double click the box to type in your code. You can then execute that code by **holding shift and pressing enter.** This should execute your code and the output will appear below the box. You can try it now with the box above. If you right click the box you can clear the output or just edit the code and execute it again.\n",
    "## Building a simple Electronic Health Record\n",
    "Electronic health records (EHR) have replaced paper systems in some hospitals. As a mini-project to tie together various concepts in programming, we will attempt to build a simple EHR system in this tutorial.\n",
    "### Keeping track of patient information\n",
    "The primary purpose of an EHR is to store information about a patient such as their contact details, or their basic obs for the day. For instance in python you could do this like so"
   ]
  },
  {
   "cell_type": "code",
   "execution_count": null,
   "metadata": {},
   "outputs": [],
   "source": [
    "First_Name = \"John\"\n",
    "Last_Name = \"Doe\"\n",
    "Heart_Rate = 70\n",
    "Respiratory_Rate = 15"
   ]
  },
  {
   "cell_type": "markdown",
   "metadata": {},
   "source": [
    "In the example above, we have **assigned** some values to a set of **variables**. **Variables** act as handles to data which you wish to work with in your program, and in most cases the **variable name** can be used to substitute for the value stored in it. The format or **syntax** for creating variables in python is `variable_name = \"some value\"`. The **single** `=` is crucial. You are generally free to name variables as you like, however, there are some rules for creating the names.\n",
    "- Spaces are not allowed\n",
    "- Names must start with a letter or an underscore, **a number is not allowed**\n",
    "- The rest of the name may include a combination of alpha-numeric characters and an underscore\n",
    "- Names are case sensitive  \n",
    "\n",
    "As an exercise, you have taken the blood pressure of Mr. Doe and found it to be 140/100. Add this information to his records below"
   ]
  },
  {
   "cell_type": "code",
   "execution_count": null,
   "metadata": {},
   "outputs": [],
   "source": [
    "First_Name = \"John\"\n",
    "Last_Name = \"Doe\"\n",
    "Heart_Rate = 70\n",
    "Respiratory_Rate = 15"
   ]
  },
  {
   "cell_type": "markdown",
   "metadata": {},
   "source": [
    "### Extracting information from the record\n",
    "If you wanted to view the patient's first name you could do so by printing it like so. If you get an error when executing the code below it could be because you have not executed the earlier blocks of code and hence the variable has not been assigned yet."
   ]
  },
  {
   "cell_type": "markdown",
   "metadata": {},
   "source": [
    "print(First_Name)"
   ]
  },
  {
   "cell_type": "markdown",
   "metadata": {},
   "source": [
    "However, if I wanted to print the patient's full name, I would need to combine the variables `First_Name` and `Last_Name`. This can be done as follows"
   ]
  },
  {
   "cell_type": "code",
   "execution_count": null,
   "metadata": {},
   "outputs": [],
   "source": [
    "print(First_Name + \" \" + Last_Name)"
   ]
  },
  {
   "cell_type": "markdown",
   "metadata": {},
   "source": [
    "`print()` is a **function** which does what it says on the tin, it takes some values and prints them to the screen. We will cover what functions are later, but for now you can see that we have **concatenated** the variables `First_Name` and `Last_Name` with a space in the middle. When values are used directly without being attached to a variable, they are called **literals**. The `+` sign is an **operator** which allows you to manipulate the data stored in variables. Which **operators** are permitted for some variables and what they do is determined by the **type** of data stored in the variable. The 2 most familiar types for medics are probably **Integers** and **Floats** which are basically whole numbers and decimal numbers respectively. The **operators** for these data types are the standard mathematical operations."
   ]
  },
  {
   "cell_type": "code",
   "execution_count": null,
   "metadata": {},
   "outputs": [],
   "source": [
    "x = 3\n",
    "y = 10\n",
    "print(x + y) # Addition\n",
    "print(x - y) # Subtraction\n",
    "print(y / x) # True Division\n",
    "print(y // x) # Integer division\n",
    "print(x * y) # Multiplication\n",
    "print(y % x) # Remainder\n",
    "print(y ** x) # Exponent"
   ]
  },
  {
   "cell_type": "markdown",
   "metadata": {},
   "source": [
    "Now as an exercise, can you calculate the pulse pressure for this patient"
   ]
  },
  {
   "cell_type": "markdown",
   "metadata": {},
   "source": [
    "Systolic_BP = 140\n",
    "Diastolic_BP = 100"
   ]
  },
  {
   "cell_type": "markdown",
   "metadata": {},
   "source": [
    "Now calculate the patient's BMI (weight/height squared)"
   ]
  },
  {
   "cell_type": "code",
   "execution_count": null,
   "metadata": {},
   "outputs": [],
   "source": [
    "Weight = 70\n",
    "Height = 1.7"
   ]
  },
  {
   "cell_type": "markdown",
   "metadata": {},
   "source": [
    "Another common data type in python is a **String**. This data type is basically text, and is anything enclosed in `''` or `\"\"`. As seen earlier, you can use the `+` operator on a String which does not make sense from a mathematical perspective. So in this case the `+` does not add 2 String variables, but instead puts them end to end (concatenation). This is an example of how the data type affects the action of an operator. This is known as **operator overloading**."
   ]
  },
  {
   "cell_type": "code",
   "execution_count": null,
   "metadata": {},
   "outputs": [],
   "source": [
    "print(First_Name + Last_Name) # String concatenation\n",
    "print(First_Name * 3) # String repetition"
   ]
  },
  {
   "cell_type": "markdown",
   "metadata": {},
   "source": [
    "Lastly, a data type that contains only `True` or `False` values is known as a **Boolean**. **Boolean** values are very useful for making decisions in a program. Boolean values can be specified as a literal such as `x = True` or more commonly generated from **comparison operators**."
   ]
  },
  {
   "cell_type": "code",
   "execution_count": null,
   "metadata": {},
   "outputs": [],
   "source": [
    "x = 3\n",
    "y = 10\n",
    "print(x > y) # greater than\n",
    "print(x < y) # less than\n",
    "print(x >= y) # greater than or equal to\n",
    "print(x <= y) # lesser than or equal to\n",
    "print(x == y) # equivalence (don't confuse this with the assignment operator for creating variables)"
   ]
  },
  {
   "cell_type": "markdown",
   "metadata": {},
   "source": [
    "Some of these operators also work on Strings"
   ]
  },
  {
   "cell_type": "code",
   "execution_count": null,
   "metadata": {},
   "outputs": [],
   "source": [
    "First_Name = \"John\"\n",
    "Last_Name = \"Doe\"\n",
    "print(First_Name == Last_Name) # Are the 2 strings equal\n",
    "print(First_Name > Last_Name) # Which String is \"greater\" according to alphabetical order\n",
    "print(First_Name < Last_Name) # Which String is \"lesser\" according to alphabetical order"
   ]
  },
  {
   "cell_type": "markdown",
   "metadata": {},
   "source": [
    "As an exercise, determine if the patient has a systolic blood pressure greater than or equal to 140 and a diastolic blood pressure greater than or equal to 90"
   ]
  },
  {
   "cell_type": "code",
   "execution_count": null,
   "metadata": {},
   "outputs": [],
   "source": [
    "Systolic_BP = 140\n",
    "Diastolic_BP = 100"
   ]
  },
  {
   "cell_type": "markdown",
   "metadata": {},
   "source": [
    "Now that you know how to generate **Boolean** values, you can combine them to generate more complex decisions. This is done through the use of **logical operators**. "
   ]
  },
  {
   "cell_type": "code",
   "execution_count": null,
   "metadata": {},
   "outputs": [],
   "source": [
    "x = True\n",
    "y = False\n",
    "print(not x) # Inverts the boolean value\n",
    "print(x and y) # Returns True if both x and y are True\n",
    "print(x and not y)\n",
    "print(x or y) # Returns True if either x or y are True\n",
    "print(not x or y)"
   ]
  },
  {
   "cell_type": "markdown",
   "metadata": {},
   "source": [
    "Now can you combine the boolean values regarding the patient's blood pressure to determine if it is considered hypertensive, assuming a blood pressure of 140/90 is considered hypertensive."
   ]
  },
  {
   "cell_type": "code",
   "execution_count": null,
   "metadata": {},
   "outputs": [],
   "source": [
    "Systolic_BP = 140\n",
    "Diastolic_BP = 100"
   ]
  },
  {
   "cell_type": "markdown",
   "metadata": {},
   "source": [
    "### Making Decisions Based on Patient Information\n",
    "Doctors often have to make decisions based on test results or follow guidelines. If you follow guidelines to the tee, "
   ]
  },
  {
   "cell_type": "code",
   "execution_count": null,
   "metadata": {},
   "outputs": [],
   "source": []
  }
 ],
 "metadata": {
  "kernelspec": {
   "display_name": "Python 3",
   "language": "python",
   "name": "python3"
  },
  "language_info": {
   "codemirror_mode": {
    "name": "ipython",
    "version": 3
   },
   "file_extension": ".py",
   "mimetype": "text/x-python",
   "name": "python",
   "nbconvert_exporter": "python",
   "pygments_lexer": "ipython3",
   "version": "3.7.0"
  }
 },
 "nbformat": 4,
 "nbformat_minor": 2
}
